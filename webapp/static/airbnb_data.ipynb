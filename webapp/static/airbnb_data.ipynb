{
 "cells": [
  {
   "cell_type": "code",
   "execution_count": 1,
   "metadata": {},
   "outputs": [],
   "source": [
    "# Main imports\n",
    "import pandas as pd\n",
    "import numpy as np\n",
    "\n",
    "# Define filepath\n",
    "path = 'airbnb_data/'\n",
    "\n",
    "# Create dataframe\n",
    "data = pd.read_csv(f\"{path}listings_summary.csv\")"
   ]
  },
  {
   "cell_type": "code",
   "execution_count": 2,
   "metadata": {},
   "outputs": [
    {
     "data": {
      "text/html": [
       "<div>\n",
       "<style scoped>\n",
       "    .dataframe tbody tr th:only-of-type {\n",
       "        vertical-align: middle;\n",
       "    }\n",
       "\n",
       "    .dataframe tbody tr th {\n",
       "        vertical-align: top;\n",
       "    }\n",
       "\n",
       "    .dataframe thead th {\n",
       "        text-align: right;\n",
       "    }\n",
       "</style>\n",
       "<table border=\"1\" class=\"dataframe\">\n",
       "  <thead>\n",
       "    <tr style=\"text-align: right;\">\n",
       "      <th></th>\n",
       "      <th>id</th>\n",
       "      <th>listing_url</th>\n",
       "      <th>scrape_id</th>\n",
       "      <th>last_scraped</th>\n",
       "      <th>name</th>\n",
       "      <th>summary</th>\n",
       "      <th>space</th>\n",
       "      <th>description</th>\n",
       "      <th>experiences_offered</th>\n",
       "      <th>neighborhood_overview</th>\n",
       "      <th>...</th>\n",
       "      <th>requires_license</th>\n",
       "      <th>license</th>\n",
       "      <th>jurisdiction_names</th>\n",
       "      <th>instant_bookable</th>\n",
       "      <th>is_business_travel_ready</th>\n",
       "      <th>cancellation_policy</th>\n",
       "      <th>require_guest_profile_picture</th>\n",
       "      <th>require_guest_phone_verification</th>\n",
       "      <th>calculated_host_listings_count</th>\n",
       "      <th>reviews_per_month</th>\n",
       "    </tr>\n",
       "  </thead>\n",
       "  <tbody>\n",
       "    <tr>\n",
       "      <td>0</td>\n",
       "      <td>2015</td>\n",
       "      <td>https://www.airbnb.com/rooms/2015</td>\n",
       "      <td>20181107122246</td>\n",
       "      <td>2018-11-07</td>\n",
       "      <td>Berlin-Mitte Value! Quiet courtyard/very central</td>\n",
       "      <td>Great location!  30 of 75 sq meters. This wood...</td>\n",
       "      <td>A+++ location! This „Einliegerwohnung“ is an e...</td>\n",
       "      <td>Great location!  30 of 75 sq meters. This wood...</td>\n",
       "      <td>none</td>\n",
       "      <td>It is located in the former East Berlin area o...</td>\n",
       "      <td>...</td>\n",
       "      <td>t</td>\n",
       "      <td>NaN</td>\n",
       "      <td>NaN</td>\n",
       "      <td>f</td>\n",
       "      <td>f</td>\n",
       "      <td>strict_14_with_grace_period</td>\n",
       "      <td>f</td>\n",
       "      <td>f</td>\n",
       "      <td>4</td>\n",
       "      <td>3.76</td>\n",
       "    </tr>\n",
       "    <tr>\n",
       "      <td>1</td>\n",
       "      <td>2695</td>\n",
       "      <td>https://www.airbnb.com/rooms/2695</td>\n",
       "      <td>20181107122246</td>\n",
       "      <td>2018-11-07</td>\n",
       "      <td>Prenzlauer Berg close to Mauerpark</td>\n",
       "      <td>NaN</td>\n",
       "      <td>In the summertime we are spending most of our ...</td>\n",
       "      <td>In the summertime we are spending most of our ...</td>\n",
       "      <td>none</td>\n",
       "      <td>NaN</td>\n",
       "      <td>...</td>\n",
       "      <td>t</td>\n",
       "      <td>NaN</td>\n",
       "      <td>NaN</td>\n",
       "      <td>f</td>\n",
       "      <td>f</td>\n",
       "      <td>flexible</td>\n",
       "      <td>f</td>\n",
       "      <td>f</td>\n",
       "      <td>1</td>\n",
       "      <td>1.42</td>\n",
       "    </tr>\n",
       "    <tr>\n",
       "      <td>2</td>\n",
       "      <td>3176</td>\n",
       "      <td>https://www.airbnb.com/rooms/3176</td>\n",
       "      <td>20181107122246</td>\n",
       "      <td>2018-11-07</td>\n",
       "      <td>Fabulous Flat in great Location</td>\n",
       "      <td>This beautiful first floor apartment  is situa...</td>\n",
       "      <td>1st floor (68m2) apartment on Kollwitzplatz/ P...</td>\n",
       "      <td>This beautiful first floor apartment  is situa...</td>\n",
       "      <td>none</td>\n",
       "      <td>The neighbourhood is famous for its variety of...</td>\n",
       "      <td>...</td>\n",
       "      <td>t</td>\n",
       "      <td>NaN</td>\n",
       "      <td>NaN</td>\n",
       "      <td>t</td>\n",
       "      <td>f</td>\n",
       "      <td>strict_14_with_grace_period</td>\n",
       "      <td>f</td>\n",
       "      <td>f</td>\n",
       "      <td>1</td>\n",
       "      <td>1.25</td>\n",
       "    </tr>\n",
       "    <tr>\n",
       "      <td>3</td>\n",
       "      <td>3309</td>\n",
       "      <td>https://www.airbnb.com/rooms/3309</td>\n",
       "      <td>20181107122246</td>\n",
       "      <td>2018-11-07</td>\n",
       "      <td>BerlinSpot Schöneberg near KaDeWe</td>\n",
       "      <td>First of all: I prefer short-notice bookings. ...</td>\n",
       "      <td>Your room is really big and has 26 sqm, is ver...</td>\n",
       "      <td>First of all: I prefer short-notice bookings. ...</td>\n",
       "      <td>none</td>\n",
       "      <td>My flat is in the middle of West-Berlin, direc...</td>\n",
       "      <td>...</td>\n",
       "      <td>t</td>\n",
       "      <td>NaN</td>\n",
       "      <td>NaN</td>\n",
       "      <td>f</td>\n",
       "      <td>f</td>\n",
       "      <td>strict_14_with_grace_period</td>\n",
       "      <td>f</td>\n",
       "      <td>f</td>\n",
       "      <td>1</td>\n",
       "      <td>0.39</td>\n",
       "    </tr>\n",
       "    <tr>\n",
       "      <td>4</td>\n",
       "      <td>7071</td>\n",
       "      <td>https://www.airbnb.com/rooms/7071</td>\n",
       "      <td>20181107122246</td>\n",
       "      <td>2018-11-07</td>\n",
       "      <td>BrightRoom with sunny greenview!</td>\n",
       "      <td>Cozy and large room in the beautiful district ...</td>\n",
       "      <td>The BrightRoom is an approx. 20 sqm (215ft²), ...</td>\n",
       "      <td>Cozy and large room in the beautiful district ...</td>\n",
       "      <td>none</td>\n",
       "      <td>Great neighborhood with plenty of Cafés, Baker...</td>\n",
       "      <td>...</td>\n",
       "      <td>t</td>\n",
       "      <td>NaN</td>\n",
       "      <td>NaN</td>\n",
       "      <td>f</td>\n",
       "      <td>f</td>\n",
       "      <td>moderate</td>\n",
       "      <td>f</td>\n",
       "      <td>f</td>\n",
       "      <td>1</td>\n",
       "      <td>1.75</td>\n",
       "    </tr>\n",
       "  </tbody>\n",
       "</table>\n",
       "<p>5 rows × 96 columns</p>\n",
       "</div>"
      ],
      "text/plain": [
       "     id                        listing_url       scrape_id last_scraped  \\\n",
       "0  2015  https://www.airbnb.com/rooms/2015  20181107122246   2018-11-07   \n",
       "1  2695  https://www.airbnb.com/rooms/2695  20181107122246   2018-11-07   \n",
       "2  3176  https://www.airbnb.com/rooms/3176  20181107122246   2018-11-07   \n",
       "3  3309  https://www.airbnb.com/rooms/3309  20181107122246   2018-11-07   \n",
       "4  7071  https://www.airbnb.com/rooms/7071  20181107122246   2018-11-07   \n",
       "\n",
       "                                               name  \\\n",
       "0  Berlin-Mitte Value! Quiet courtyard/very central   \n",
       "1                Prenzlauer Berg close to Mauerpark   \n",
       "2                   Fabulous Flat in great Location   \n",
       "3                 BerlinSpot Schöneberg near KaDeWe   \n",
       "4                  BrightRoom with sunny greenview!   \n",
       "\n",
       "                                             summary  \\\n",
       "0  Great location!  30 of 75 sq meters. This wood...   \n",
       "1                                                NaN   \n",
       "2  This beautiful first floor apartment  is situa...   \n",
       "3  First of all: I prefer short-notice bookings. ...   \n",
       "4  Cozy and large room in the beautiful district ...   \n",
       "\n",
       "                                               space  \\\n",
       "0  A+++ location! This „Einliegerwohnung“ is an e...   \n",
       "1  In the summertime we are spending most of our ...   \n",
       "2  1st floor (68m2) apartment on Kollwitzplatz/ P...   \n",
       "3  Your room is really big and has 26 sqm, is ver...   \n",
       "4  The BrightRoom is an approx. 20 sqm (215ft²), ...   \n",
       "\n",
       "                                         description experiences_offered  \\\n",
       "0  Great location!  30 of 75 sq meters. This wood...                none   \n",
       "1  In the summertime we are spending most of our ...                none   \n",
       "2  This beautiful first floor apartment  is situa...                none   \n",
       "3  First of all: I prefer short-notice bookings. ...                none   \n",
       "4  Cozy and large room in the beautiful district ...                none   \n",
       "\n",
       "                               neighborhood_overview  ... requires_license  \\\n",
       "0  It is located in the former East Berlin area o...  ...                t   \n",
       "1                                                NaN  ...                t   \n",
       "2  The neighbourhood is famous for its variety of...  ...                t   \n",
       "3  My flat is in the middle of West-Berlin, direc...  ...                t   \n",
       "4  Great neighborhood with plenty of Cafés, Baker...  ...                t   \n",
       "\n",
       "  license jurisdiction_names instant_bookable is_business_travel_ready  \\\n",
       "0     NaN                NaN                f                        f   \n",
       "1     NaN                NaN                f                        f   \n",
       "2     NaN                NaN                t                        f   \n",
       "3     NaN                NaN                f                        f   \n",
       "4     NaN                NaN                f                        f   \n",
       "\n",
       "           cancellation_policy  require_guest_profile_picture  \\\n",
       "0  strict_14_with_grace_period                              f   \n",
       "1                     flexible                              f   \n",
       "2  strict_14_with_grace_period                              f   \n",
       "3  strict_14_with_grace_period                              f   \n",
       "4                     moderate                              f   \n",
       "\n",
       "  require_guest_phone_verification  calculated_host_listings_count  \\\n",
       "0                                f                               4   \n",
       "1                                f                               1   \n",
       "2                                f                               1   \n",
       "3                                f                               1   \n",
       "4                                f                               1   \n",
       "\n",
       "   reviews_per_month  \n",
       "0               3.76  \n",
       "1               1.42  \n",
       "2               1.25  \n",
       "3               0.39  \n",
       "4               1.75  \n",
       "\n",
       "[5 rows x 96 columns]"
      ]
     },
     "execution_count": 2,
     "metadata": {},
     "output_type": "execute_result"
    }
   ],
   "source": [
    "# Display first 5 observations to ensure proper creation of DataFrame\n",
    "data.head()"
   ]
  },
  {
   "cell_type": "code",
   "execution_count": 3,
   "metadata": {},
   "outputs": [
    {
     "data": {
      "text/plain": [
       "Index(['id', 'listing_url', 'scrape_id', 'last_scraped', 'name', 'summary',\n",
       "       'space', 'description', 'experiences_offered', 'neighborhood_overview',\n",
       "       'notes', 'transit', 'access', 'interaction', 'house_rules',\n",
       "       'thumbnail_url', 'medium_url', 'picture_url', 'xl_picture_url',\n",
       "       'host_id', 'host_url', 'host_name', 'host_since', 'host_location',\n",
       "       'host_about', 'host_response_time', 'host_response_rate',\n",
       "       'host_acceptance_rate', 'host_is_superhost', 'host_thumbnail_url',\n",
       "       'host_picture_url', 'host_neighbourhood', 'host_listings_count',\n",
       "       'host_total_listings_count', 'host_verifications',\n",
       "       'host_has_profile_pic', 'host_identity_verified', 'street',\n",
       "       'neighbourhood', 'neighbourhood_cleansed',\n",
       "       'neighbourhood_group_cleansed', 'city', 'state', 'zipcode', 'market',\n",
       "       'smart_location', 'country_code', 'country', 'latitude', 'longitude',\n",
       "       'is_location_exact', 'property_type', 'room_type', 'accommodates',\n",
       "       'bathrooms', 'bedrooms', 'beds', 'bed_type', 'amenities', 'square_feet',\n",
       "       'price', 'weekly_price', 'monthly_price', 'security_deposit',\n",
       "       'cleaning_fee', 'guests_included', 'extra_people', 'minimum_nights',\n",
       "       'maximum_nights', 'calendar_updated', 'has_availability',\n",
       "       'availability_30', 'availability_60', 'availability_90',\n",
       "       'availability_365', 'calendar_last_scraped', 'number_of_reviews',\n",
       "       'first_review', 'last_review', 'review_scores_rating',\n",
       "       'review_scores_accuracy', 'review_scores_cleanliness',\n",
       "       'review_scores_checkin', 'review_scores_communication',\n",
       "       'review_scores_location', 'review_scores_value', 'requires_license',\n",
       "       'license', 'jurisdiction_names', 'instant_bookable',\n",
       "       'is_business_travel_ready', 'cancellation_policy',\n",
       "       'require_guest_profile_picture', 'require_guest_phone_verification',\n",
       "       'calculated_host_listings_count', 'reviews_per_month'],\n",
       "      dtype='object')"
      ]
     },
     "execution_count": 3,
     "metadata": {},
     "output_type": "execute_result"
    }
   ],
   "source": [
    "# View column names\n",
    "data.columns"
   ]
  },
  {
   "cell_type": "markdown",
   "metadata": {},
   "source": [
    "# Gather the right data\n",
    "\n",
    "The model will only be exposed to certain data. For this reason, it is on necessary to train the model on certain types of\n",
    "data from what is available. This CSV contains all of that data, so I will extract only the needed columns."
   ]
  },
  {
   "cell_type": "code",
   "execution_count": 4,
   "metadata": {},
   "outputs": [],
   "source": [
    "# Define the needed columns\n",
    "columns = [\n",
    "    'minimum_nights', 'bedrooms', 'bathrooms', 'accommodates', \n",
    "    'bed_type', 'security_deposit', 'room_type', 'zipcode', \n",
    "    'amenities', 'price'\n",
    "]\n",
    "\n",
    "# Select the subset from data\n",
    "data_2 = data[columns]"
   ]
  },
  {
   "cell_type": "code",
   "execution_count": 5,
   "metadata": {},
   "outputs": [
    {
     "data": {
      "text/html": [
       "<div>\n",
       "<style scoped>\n",
       "    .dataframe tbody tr th:only-of-type {\n",
       "        vertical-align: middle;\n",
       "    }\n",
       "\n",
       "    .dataframe tbody tr th {\n",
       "        vertical-align: top;\n",
       "    }\n",
       "\n",
       "    .dataframe thead th {\n",
       "        text-align: right;\n",
       "    }\n",
       "</style>\n",
       "<table border=\"1\" class=\"dataframe\">\n",
       "  <thead>\n",
       "    <tr style=\"text-align: right;\">\n",
       "      <th></th>\n",
       "      <th>minimum_nights</th>\n",
       "      <th>bedrooms</th>\n",
       "      <th>bathrooms</th>\n",
       "      <th>accommodates</th>\n",
       "      <th>bed_type</th>\n",
       "      <th>security_deposit</th>\n",
       "      <th>room_type</th>\n",
       "      <th>zipcode</th>\n",
       "      <th>amenities</th>\n",
       "      <th>price</th>\n",
       "    </tr>\n",
       "  </thead>\n",
       "  <tbody>\n",
       "    <tr>\n",
       "      <td>0</td>\n",
       "      <td>4</td>\n",
       "      <td>1.0</td>\n",
       "      <td>1.0</td>\n",
       "      <td>3</td>\n",
       "      <td>Real Bed</td>\n",
       "      <td>$200.00</td>\n",
       "      <td>Entire home/apt</td>\n",
       "      <td>10119</td>\n",
       "      <td>{TV,\"Cable TV\",Wifi,Kitchen,Gym,Heating,\"Famil...</td>\n",
       "      <td>$60.00</td>\n",
       "    </tr>\n",
       "    <tr>\n",
       "      <td>1</td>\n",
       "      <td>2</td>\n",
       "      <td>1.0</td>\n",
       "      <td>1.0</td>\n",
       "      <td>2</td>\n",
       "      <td>Real Bed</td>\n",
       "      <td>$0.00</td>\n",
       "      <td>Private room</td>\n",
       "      <td>10437</td>\n",
       "      <td>{Wifi,Kitchen,Elevator,Heating,Washer,Essentia...</td>\n",
       "      <td>$17.00</td>\n",
       "    </tr>\n",
       "    <tr>\n",
       "      <td>2</td>\n",
       "      <td>62</td>\n",
       "      <td>1.0</td>\n",
       "      <td>1.0</td>\n",
       "      <td>4</td>\n",
       "      <td>Real Bed</td>\n",
       "      <td>$200.00</td>\n",
       "      <td>Entire home/apt</td>\n",
       "      <td>10405</td>\n",
       "      <td>{Internet,Wifi,Kitchen,\"Buzzer/wireless interc...</td>\n",
       "      <td>$90.00</td>\n",
       "    </tr>\n",
       "    <tr>\n",
       "      <td>3</td>\n",
       "      <td>5</td>\n",
       "      <td>1.0</td>\n",
       "      <td>1.0</td>\n",
       "      <td>2</td>\n",
       "      <td>Pull-out Sofa</td>\n",
       "      <td>$250.00</td>\n",
       "      <td>Private room</td>\n",
       "      <td>10777</td>\n",
       "      <td>{Internet,Wifi,\"Pets allowed\",\"Pets live on th...</td>\n",
       "      <td>$26.00</td>\n",
       "    </tr>\n",
       "    <tr>\n",
       "      <td>4</td>\n",
       "      <td>2</td>\n",
       "      <td>1.0</td>\n",
       "      <td>1.0</td>\n",
       "      <td>2</td>\n",
       "      <td>Real Bed</td>\n",
       "      <td>$0.00</td>\n",
       "      <td>Private room</td>\n",
       "      <td>10437</td>\n",
       "      <td>{Wifi,Heating,\"Family/kid friendly\",Essentials...</td>\n",
       "      <td>$42.00</td>\n",
       "    </tr>\n",
       "  </tbody>\n",
       "</table>\n",
       "</div>"
      ],
      "text/plain": [
       "   minimum_nights  bedrooms  bathrooms  accommodates       bed_type  \\\n",
       "0               4       1.0        1.0             3       Real Bed   \n",
       "1               2       1.0        1.0             2       Real Bed   \n",
       "2              62       1.0        1.0             4       Real Bed   \n",
       "3               5       1.0        1.0             2  Pull-out Sofa   \n",
       "4               2       1.0        1.0             2       Real Bed   \n",
       "\n",
       "  security_deposit        room_type zipcode  \\\n",
       "0          $200.00  Entire home/apt   10119   \n",
       "1            $0.00     Private room   10437   \n",
       "2          $200.00  Entire home/apt   10405   \n",
       "3          $250.00     Private room   10777   \n",
       "4            $0.00     Private room   10437   \n",
       "\n",
       "                                           amenities   price  \n",
       "0  {TV,\"Cable TV\",Wifi,Kitchen,Gym,Heating,\"Famil...  $60.00  \n",
       "1  {Wifi,Kitchen,Elevator,Heating,Washer,Essentia...  $17.00  \n",
       "2  {Internet,Wifi,Kitchen,\"Buzzer/wireless interc...  $90.00  \n",
       "3  {Internet,Wifi,\"Pets allowed\",\"Pets live on th...  $26.00  \n",
       "4  {Wifi,Heating,\"Family/kid friendly\",Essentials...  $42.00  "
      ]
     },
     "execution_count": 5,
     "metadata": {},
     "output_type": "execute_result"
    }
   ],
   "source": [
    "# Check that the DataFrame has been altered in the expected way\n",
    "data_2.head()"
   ]
  },
  {
   "cell_type": "code",
   "execution_count": 6,
   "metadata": {},
   "outputs": [
    {
     "name": "stdout",
     "output_type": "stream",
     "text": [
      "minimum_nights:\tint64\n",
      "bedrooms:\tfloat64\n",
      "bathrooms:\tfloat64\n",
      "accommodates:\tint64\n",
      "bed_type:\tobject\n",
      "security_deposit:\tobject\n",
      "room_type:\tobject\n",
      "zipcode:\tobject\n",
      "amenities:\tobject\n",
      "price:\tobject\n"
     ]
    }
   ],
   "source": [
    "# Check dtypes on each column\n",
    "for column in data_2.columns:\n",
    "    print(\n",
    "        f\"{column}:\\t{data_2[column].dtype}\"\n",
    "    )"
   ]
  },
  {
   "cell_type": "markdown",
   "metadata": {},
   "source": [
    "# Get the data in the right format\n",
    "\n",
    "Some of the data that should be in a numeric data type is currently a string. The amenities looks like it was poorly converted\n",
    "from JSON format. The data will need to be cleaned before we can use it to make any predictions."
   ]
  },
  {
   "cell_type": "code",
   "execution_count": 7,
   "metadata": {},
   "outputs": [],
   "source": [
    "# Create a function to clean the security deposit column\n",
    "def clean_security_deposit(value):\n",
    "    \"\"\"\n",
    "    Function accepts single value inputs. If the value is a string, \n",
    "    it will strip the '$' and ',' out of the string before converting\n",
    "    the string to an integer.\n",
    "    \"\"\"\n",
    "    try:\n",
    "        if type(value) != str:\n",
    "            return value\n",
    "        else:\n",
    "            new_value = value.replace(\"$\", \"\")\n",
    "            new_value_2 = new_value.replace(\",\",\"\")\n",
    "            return int(float(new_value_2))\n",
    "    except:\n",
    "        new_value = str(value).replace(\"$\", \"\")\n",
    "        new_value_2 = new_value.replace(\",\", \"\")\n",
    "        return int(float(new_value_2))\n",
    "    \n"
   ]
  },
  {
   "cell_type": "code",
   "execution_count": 8,
   "metadata": {},
   "outputs": [],
   "source": [
    "# Create a function to clean the zipcode column\n",
    "def clean_zipcode(value):\n",
    "    \"\"\"\n",
    "    Function accepts single value inputs. If the regex pattern is matched, \n",
    "    return the match. \n",
    "    \"\"\"\n",
    "    if type(value) != str:\n",
    "        return value\n",
    "    else:\n",
    "        pattern = '\\d+'\n",
    "        result = re.findall(pattern, value)\n",
    "        return int(result[0])\n"
   ]
  },
  {
   "cell_type": "code",
   "execution_count": 9,
   "metadata": {},
   "outputs": [],
   "source": [
    "# Create a function to clean the price column\n",
    "def clean_price(value):\n",
    "    \"\"\"\n",
    "    Function accepts single value inputs. If the is a string,\n",
    "    it will strip the '$' and ',' out of the string before converting\n",
    "    the string to a float.\n",
    "    \"\"\"\n",
    "    try:\n",
    "        if type(value) != str:\n",
    "            return value\n",
    "        else:\n",
    "            new_value = value.replace(\"$\", \"\")\n",
    "            new_value_2 = new_value.replace(\",\", \"\")\n",
    "            return float(new_value_2)\n",
    "    except:\n",
    "        new_value = str(value).replace(\"$\", \"\")\n",
    "        new_value_2 = new_value.replace(\",\", \"\")\n",
    "        return float(new_value_2)\n",
    "    "
   ]
  },
  {
   "cell_type": "code",
   "execution_count": 10,
   "metadata": {},
   "outputs": [],
   "source": [
    "# Create function to pull needed amenities out into a list\n",
    "def fix_amenities(value):\n",
    "    \"\"\"\n",
    "    Function accepts single value inputs. If the regex pattern is matched, \n",
    "    it will return a list of all values that match and are represented as\n",
    "    an amenity that we want.\n",
    "    \"\"\"\n",
    "    pattern = '\\w+\\s?\\w+\\s?\\w+\\s?\\w+|\\w+\\s?\\w+\\s?\\w+|\\w+\\s?\\w+|\\w+'\n",
    "    result = re.findall(pattern, value.lower())\n",
    "    return result\n"
   ]
  },
  {
   "cell_type": "code",
   "execution_count": 11,
   "metadata": {},
   "outputs": [],
   "source": [
    "# Import re for regex matching\n",
    "import re\n",
    "\n",
    "\n",
    "# Apply functions to DataFrame columns\n",
    "data_3 = data_2.copy()\n",
    "data_3['security_deposit'] = data_2['security_deposit'].apply(clean_security_deposit)\n",
    "data_3['zipcode'] = data_2['zipcode'].apply(clean_zipcode)\n",
    "data_3['price'] = data_2['price'].apply(clean_price)\n",
    "\n",
    "# Fix amenities to work with function\n",
    "data_3['amenities'] = data_2['amenities'].apply(fix_amenities)\n"
   ]
  },
  {
   "cell_type": "code",
   "execution_count": 12,
   "metadata": {},
   "outputs": [],
   "source": [
    "# OneHot encode amenities\n",
    "data_3 = data_3.drop('amenities', 1).join(data_3['amenities'].str.join('|').str.get_dummies())\n",
    "# Remove nans, unable to impute accurately\n",
    "data_final = data_3.dropna()"
   ]
  },
  {
   "cell_type": "code",
   "execution_count": 13,
   "metadata": {},
   "outputs": [],
   "source": [
    "# Import sklearn modules\n",
    "from sklearn.linear_model import LinearRegression\n",
    "from sklearn.metrics import mean_squared_error\n",
    "from sklearn.pipeline import Pipeline\n",
    "from sklearn.model_selection import train_test_split\n",
    "from category_encoders import OrdinalEncoder, OneHotEncoder\n"
   ]
  },
  {
   "cell_type": "code",
   "execution_count": 14,
   "metadata": {},
   "outputs": [],
   "source": [
    "# Train / Test split\n",
    "# Split into feature matrix and target vector\n",
    "\n",
    "\n",
    "target = 'price'\n",
    "\n",
    "X = data_final.drop(columns=target)\n",
    "y = data_final[target]\n",
    "\n",
    "X_train, X_test, y_train, y_test = train_test_split(X, y, test_size=0.15, random_state=42)"
   ]
  },
  {
   "cell_type": "code",
   "execution_count": 15,
   "metadata": {},
   "outputs": [
    {
     "name": "stderr",
     "output_type": "stream",
     "text": [
      "/usr/local/lib/python3.7/site-packages/ipykernel_launcher.py:1: SettingWithCopyWarning: \n",
      "A value is trying to be set on a copy of a slice from a DataFrame.\n",
      "Try using .loc[row_indexer,col_indexer] = value instead\n",
      "\n",
      "See the caveats in the documentation: http://pandas.pydata.org/pandas-docs/stable/user_guide/indexing.html#returning-a-view-versus-a-copy\n",
      "  \"\"\"Entry point for launching an IPython kernel.\n",
      "/usr/local/lib/python3.7/site-packages/ipykernel_launcher.py:2: SettingWithCopyWarning: \n",
      "A value is trying to be set on a copy of a slice from a DataFrame.\n",
      "Try using .loc[row_indexer,col_indexer] = value instead\n",
      "\n",
      "See the caveats in the documentation: http://pandas.pydata.org/pandas-docs/stable/user_guide/indexing.html#returning-a-view-versus-a-copy\n",
      "  \n",
      "/usr/local/lib/python3.7/site-packages/ipykernel_launcher.py:3: SettingWithCopyWarning: \n",
      "A value is trying to be set on a copy of a slice from a DataFrame.\n",
      "Try using .loc[row_indexer,col_indexer] = value instead\n",
      "\n",
      "See the caveats in the documentation: http://pandas.pydata.org/pandas-docs/stable/user_guide/indexing.html#returning-a-view-versus-a-copy\n",
      "  This is separate from the ipykernel package so we can avoid doing imports until\n",
      "/usr/local/lib/python3.7/site-packages/ipykernel_launcher.py:4: SettingWithCopyWarning: \n",
      "A value is trying to be set on a copy of a slice from a DataFrame.\n",
      "Try using .loc[row_indexer,col_indexer] = value instead\n",
      "\n",
      "See the caveats in the documentation: http://pandas.pydata.org/pandas-docs/stable/user_guide/indexing.html#returning-a-view-versus-a-copy\n",
      "  after removing the cwd from sys.path.\n",
      "/usr/local/lib/python3.7/site-packages/ipykernel_launcher.py:5: SettingWithCopyWarning: \n",
      "A value is trying to be set on a copy of a slice from a DataFrame.\n",
      "Try using .loc[row_indexer,col_indexer] = value instead\n",
      "\n",
      "See the caveats in the documentation: http://pandas.pydata.org/pandas-docs/stable/user_guide/indexing.html#returning-a-view-versus-a-copy\n",
      "  \"\"\"\n"
     ]
    }
   ],
   "source": [
    "X_train['laundry'] = np.zeros(len(X_train))\n",
    "X_train['security'] = np.zeros(len(X_train))\n",
    "X_train['patio'] = np.zeros(len(X_train))\n",
    "X_train['spa'] = np.zeros(len(X_train))\n",
    "X_train['cleaning'] = np.zeros(len(X_train))"
   ]
  },
  {
   "cell_type": "code",
   "execution_count": 16,
   "metadata": {},
   "outputs": [
    {
     "name": "stderr",
     "output_type": "stream",
     "text": [
      "/usr/local/lib/python3.7/site-packages/ipykernel_launcher.py:1: SettingWithCopyWarning: \n",
      "A value is trying to be set on a copy of a slice from a DataFrame.\n",
      "Try using .loc[row_indexer,col_indexer] = value instead\n",
      "\n",
      "See the caveats in the documentation: http://pandas.pydata.org/pandas-docs/stable/user_guide/indexing.html#returning-a-view-versus-a-copy\n",
      "  \"\"\"Entry point for launching an IPython kernel.\n",
      "/usr/local/lib/python3.7/site-packages/ipykernel_launcher.py:2: SettingWithCopyWarning: \n",
      "A value is trying to be set on a copy of a slice from a DataFrame.\n",
      "Try using .loc[row_indexer,col_indexer] = value instead\n",
      "\n",
      "See the caveats in the documentation: http://pandas.pydata.org/pandas-docs/stable/user_guide/indexing.html#returning-a-view-versus-a-copy\n",
      "  \n",
      "/usr/local/lib/python3.7/site-packages/ipykernel_launcher.py:3: SettingWithCopyWarning: \n",
      "A value is trying to be set on a copy of a slice from a DataFrame.\n",
      "Try using .loc[row_indexer,col_indexer] = value instead\n",
      "\n",
      "See the caveats in the documentation: http://pandas.pydata.org/pandas-docs/stable/user_guide/indexing.html#returning-a-view-versus-a-copy\n",
      "  This is separate from the ipykernel package so we can avoid doing imports until\n",
      "/usr/local/lib/python3.7/site-packages/ipykernel_launcher.py:4: SettingWithCopyWarning: \n",
      "A value is trying to be set on a copy of a slice from a DataFrame.\n",
      "Try using .loc[row_indexer,col_indexer] = value instead\n",
      "\n",
      "See the caveats in the documentation: http://pandas.pydata.org/pandas-docs/stable/user_guide/indexing.html#returning-a-view-versus-a-copy\n",
      "  after removing the cwd from sys.path.\n",
      "/usr/local/lib/python3.7/site-packages/ipykernel_launcher.py:5: SettingWithCopyWarning: \n",
      "A value is trying to be set on a copy of a slice from a DataFrame.\n",
      "Try using .loc[row_indexer,col_indexer] = value instead\n",
      "\n",
      "See the caveats in the documentation: http://pandas.pydata.org/pandas-docs/stable/user_guide/indexing.html#returning-a-view-versus-a-copy\n",
      "  \"\"\"\n"
     ]
    }
   ],
   "source": [
    "X_train['laundry'] = X_train['laundry'].astype(int)\n",
    "X_train['security'] = X_train['security'].astype(int)\n",
    "X_train['patio'] = X_train['patio'].astype(int)\n",
    "X_train['spa'] = X_train['spa'].astype(int)\n",
    "X_train['cleaning'] = X_train['cleaning'].astype(int)"
   ]
  },
  {
   "cell_type": "code",
   "execution_count": 17,
   "metadata": {},
   "outputs": [
    {
     "name": "stderr",
     "output_type": "stream",
     "text": [
      "/usr/local/lib/python3.7/site-packages/ipykernel_launcher.py:1: SettingWithCopyWarning: \n",
      "A value is trying to be set on a copy of a slice from a DataFrame.\n",
      "Try using .loc[row_indexer,col_indexer] = value instead\n",
      "\n",
      "See the caveats in the documentation: http://pandas.pydata.org/pandas-docs/stable/user_guide/indexing.html#returning-a-view-versus-a-copy\n",
      "  \"\"\"Entry point for launching an IPython kernel.\n",
      "/usr/local/lib/python3.7/site-packages/ipykernel_launcher.py:2: SettingWithCopyWarning: \n",
      "A value is trying to be set on a copy of a slice from a DataFrame.\n",
      "Try using .loc[row_indexer,col_indexer] = value instead\n",
      "\n",
      "See the caveats in the documentation: http://pandas.pydata.org/pandas-docs/stable/user_guide/indexing.html#returning-a-view-versus-a-copy\n",
      "  \n",
      "/usr/local/lib/python3.7/site-packages/ipykernel_launcher.py:3: SettingWithCopyWarning: \n",
      "A value is trying to be set on a copy of a slice from a DataFrame.\n",
      "Try using .loc[row_indexer,col_indexer] = value instead\n",
      "\n",
      "See the caveats in the documentation: http://pandas.pydata.org/pandas-docs/stable/user_guide/indexing.html#returning-a-view-versus-a-copy\n",
      "  This is separate from the ipykernel package so we can avoid doing imports until\n",
      "/usr/local/lib/python3.7/site-packages/ipykernel_launcher.py:4: SettingWithCopyWarning: \n",
      "A value is trying to be set on a copy of a slice from a DataFrame.\n",
      "Try using .loc[row_indexer,col_indexer] = value instead\n",
      "\n",
      "See the caveats in the documentation: http://pandas.pydata.org/pandas-docs/stable/user_guide/indexing.html#returning-a-view-versus-a-copy\n",
      "  after removing the cwd from sys.path.\n",
      "/usr/local/lib/python3.7/site-packages/ipykernel_launcher.py:5: SettingWithCopyWarning: \n",
      "A value is trying to be set on a copy of a slice from a DataFrame.\n",
      "Try using .loc[row_indexer,col_indexer] = value instead\n",
      "\n",
      "See the caveats in the documentation: http://pandas.pydata.org/pandas-docs/stable/user_guide/indexing.html#returning-a-view-versus-a-copy\n",
      "  \"\"\"\n"
     ]
    }
   ],
   "source": [
    "X_test['laundry'] = np.zeros(len(X_test))\n",
    "X_test['security'] = np.zeros(len(X_test))\n",
    "X_test['patio'] = np.zeros(len(X_test))\n",
    "X_test['spa'] = np.zeros(len(X_test))\n",
    "X_test['cleaning'] = np.zeros(len(X_test))"
   ]
  },
  {
   "cell_type": "code",
   "execution_count": 18,
   "metadata": {},
   "outputs": [
    {
     "name": "stderr",
     "output_type": "stream",
     "text": [
      "/usr/local/lib/python3.7/site-packages/ipykernel_launcher.py:1: SettingWithCopyWarning: \n",
      "A value is trying to be set on a copy of a slice from a DataFrame.\n",
      "Try using .loc[row_indexer,col_indexer] = value instead\n",
      "\n",
      "See the caveats in the documentation: http://pandas.pydata.org/pandas-docs/stable/user_guide/indexing.html#returning-a-view-versus-a-copy\n",
      "  \"\"\"Entry point for launching an IPython kernel.\n",
      "/usr/local/lib/python3.7/site-packages/ipykernel_launcher.py:2: SettingWithCopyWarning: \n",
      "A value is trying to be set on a copy of a slice from a DataFrame.\n",
      "Try using .loc[row_indexer,col_indexer] = value instead\n",
      "\n",
      "See the caveats in the documentation: http://pandas.pydata.org/pandas-docs/stable/user_guide/indexing.html#returning-a-view-versus-a-copy\n",
      "  \n",
      "/usr/local/lib/python3.7/site-packages/ipykernel_launcher.py:3: SettingWithCopyWarning: \n",
      "A value is trying to be set on a copy of a slice from a DataFrame.\n",
      "Try using .loc[row_indexer,col_indexer] = value instead\n",
      "\n",
      "See the caveats in the documentation: http://pandas.pydata.org/pandas-docs/stable/user_guide/indexing.html#returning-a-view-versus-a-copy\n",
      "  This is separate from the ipykernel package so we can avoid doing imports until\n",
      "/usr/local/lib/python3.7/site-packages/ipykernel_launcher.py:4: SettingWithCopyWarning: \n",
      "A value is trying to be set on a copy of a slice from a DataFrame.\n",
      "Try using .loc[row_indexer,col_indexer] = value instead\n",
      "\n",
      "See the caveats in the documentation: http://pandas.pydata.org/pandas-docs/stable/user_guide/indexing.html#returning-a-view-versus-a-copy\n",
      "  after removing the cwd from sys.path.\n",
      "/usr/local/lib/python3.7/site-packages/ipykernel_launcher.py:5: SettingWithCopyWarning: \n",
      "A value is trying to be set on a copy of a slice from a DataFrame.\n",
      "Try using .loc[row_indexer,col_indexer] = value instead\n",
      "\n",
      "See the caveats in the documentation: http://pandas.pydata.org/pandas-docs/stable/user_guide/indexing.html#returning-a-view-versus-a-copy\n",
      "  \"\"\"\n"
     ]
    }
   ],
   "source": [
    "X_test['laundry'] = X_test['laundry'].astype(int)\n",
    "X_test['security'] = X_test['security'].astype(int)\n",
    "X_test['patio'] = X_test['patio'].astype(int)\n",
    "X_test['spa'] = X_test['spa'].astype(int)\n",
    "X_test['cleaning'] = X_test['cleaning'].astype(int)"
   ]
  },
  {
   "cell_type": "code",
   "execution_count": 19,
   "metadata": {},
   "outputs": [
    {
     "data": {
      "text/plain": [
       "Pipeline(memory=None,\n",
       "         steps=[('encoder',\n",
       "                 OrdinalEncoder(cols=['bed_type', 'room_type'],\n",
       "                                drop_invariant=False, handle_missing='value',\n",
       "                                handle_unknown='value',\n",
       "                                mapping=[{'col': 'bed_type',\n",
       "                                          'data_type': dtype('O'),\n",
       "                                          'mapping': Real Bed         1\n",
       "Pull-out Sofa    2\n",
       "Futon            3\n",
       "Couch            4\n",
       "Airbed           5\n",
       "NaN             -2\n",
       "dtype: int64},\n",
       "                                         {'col': 'room_type',\n",
       "                                          'data_type': dtype('O'),\n",
       "                                          'mapping': Private room       1\n",
       "Entire home/apt    2\n",
       "Shared room        3\n",
       "NaN               -2\n",
       "dtype: int64}],\n",
       "                                return_df=True, verbose=0)),\n",
       "                ('model',\n",
       "                 LinearRegression(copy_X=True, fit_intercept=True, n_jobs=None,\n",
       "                                  normalize=False))],\n",
       "         verbose=False)"
      ]
     },
     "execution_count": 19,
     "metadata": {},
     "output_type": "execute_result"
    }
   ],
   "source": [
    "# Create Pipeline\n",
    "pipeline = Pipeline(\n",
    "    [('encoder', OrdinalEncoder()),\n",
    "     ('model', LinearRegression())]\n",
    ")\n",
    "\n",
    "pipeline.fit(X_train, y_train)"
   ]
  },
  {
   "cell_type": "code",
   "execution_count": 20,
   "metadata": {},
   "outputs": [],
   "source": [
    "y_pred = pipeline.predict(X_train)"
   ]
  },
  {
   "cell_type": "code",
   "execution_count": 21,
   "metadata": {},
   "outputs": [
    {
     "data": {
      "text/plain": [
       "61222.26833844842"
      ]
     },
     "execution_count": 21,
     "metadata": {},
     "output_type": "execute_result"
    }
   ],
   "source": [
    "mean_squared_error(y_train, y_pred)"
   ]
  },
  {
   "cell_type": "markdown",
   "metadata": {},
   "source": [
    "# Not great, but it's something\n",
    "\n",
    "The results aren't amazing, actually fairly far from it. But at least this is giving us _something_"
   ]
  },
  {
   "cell_type": "code",
   "execution_count": 22,
   "metadata": {},
   "outputs": [],
   "source": [
    "# Lets create a new set of data subset from only the highest review scores\n",
    "new_data = data[data['review_scores_value']>=9]"
   ]
  },
  {
   "cell_type": "code",
   "execution_count": 23,
   "metadata": {},
   "outputs": [],
   "source": [
    "# Pull out only the columns we care about\n",
    "subset_data = new_data[columns]"
   ]
  },
  {
   "cell_type": "code",
   "execution_count": 24,
   "metadata": {},
   "outputs": [],
   "source": [
    "# Impute 0 for security deposit if NaN\n",
    "df = subset_data.copy()\n",
    "df['security_deposit'] = df['security_deposit'].fillna(0)"
   ]
  },
  {
   "cell_type": "code",
   "execution_count": 25,
   "metadata": {},
   "outputs": [],
   "source": [
    "# Drop other NaN values, they can't be imputed accurately\n",
    "df = df.dropna()"
   ]
  },
  {
   "cell_type": "code",
   "execution_count": 26,
   "metadata": {},
   "outputs": [],
   "source": [
    "# Clean the data\n",
    "df['security_deposit'] = df['security_deposit'].apply(clean_security_deposit)\n",
    "df['price'] = df['price'].apply(clean_price)\n",
    "df['zipcode'] = df['zipcode'].apply(clean_zipcode)\n",
    "df['amenities'] = df['amenities'].apply(fix_amenities)"
   ]
  },
  {
   "cell_type": "code",
   "execution_count": 27,
   "metadata": {},
   "outputs": [
    {
     "data": {
      "text/html": [
       "<div>\n",
       "<style scoped>\n",
       "    .dataframe tbody tr th:only-of-type {\n",
       "        vertical-align: middle;\n",
       "    }\n",
       "\n",
       "    .dataframe tbody tr th {\n",
       "        vertical-align: top;\n",
       "    }\n",
       "\n",
       "    .dataframe thead th {\n",
       "        text-align: right;\n",
       "    }\n",
       "</style>\n",
       "<table border=\"1\" class=\"dataframe\">\n",
       "  <thead>\n",
       "    <tr style=\"text-align: right;\">\n",
       "      <th></th>\n",
       "      <th>minimum_nights</th>\n",
       "      <th>bedrooms</th>\n",
       "      <th>bathrooms</th>\n",
       "      <th>accommodates</th>\n",
       "      <th>bed_type</th>\n",
       "      <th>security_deposit</th>\n",
       "      <th>room_type</th>\n",
       "      <th>zipcode</th>\n",
       "      <th>amenities</th>\n",
       "      <th>price</th>\n",
       "    </tr>\n",
       "  </thead>\n",
       "  <tbody>\n",
       "    <tr>\n",
       "      <td>0</td>\n",
       "      <td>4</td>\n",
       "      <td>1.0</td>\n",
       "      <td>1.0</td>\n",
       "      <td>3</td>\n",
       "      <td>Real Bed</td>\n",
       "      <td>200</td>\n",
       "      <td>Entire home/apt</td>\n",
       "      <td>10119</td>\n",
       "      <td>[tv, cable tv, wifi, kitchen, gym, heating, fa...</td>\n",
       "      <td>60.0</td>\n",
       "    </tr>\n",
       "    <tr>\n",
       "      <td>1</td>\n",
       "      <td>2</td>\n",
       "      <td>1.0</td>\n",
       "      <td>1.0</td>\n",
       "      <td>2</td>\n",
       "      <td>Real Bed</td>\n",
       "      <td>0</td>\n",
       "      <td>Private room</td>\n",
       "      <td>10437</td>\n",
       "      <td>[wifi, kitchen, elevator, heating, washer, ess...</td>\n",
       "      <td>17.0</td>\n",
       "    </tr>\n",
       "    <tr>\n",
       "      <td>2</td>\n",
       "      <td>62</td>\n",
       "      <td>1.0</td>\n",
       "      <td>1.0</td>\n",
       "      <td>4</td>\n",
       "      <td>Real Bed</td>\n",
       "      <td>200</td>\n",
       "      <td>Entire home/apt</td>\n",
       "      <td>10405</td>\n",
       "      <td>[internet, wifi, kitchen, buzzer, wireless int...</td>\n",
       "      <td>90.0</td>\n",
       "    </tr>\n",
       "    <tr>\n",
       "      <td>3</td>\n",
       "      <td>5</td>\n",
       "      <td>1.0</td>\n",
       "      <td>1.0</td>\n",
       "      <td>2</td>\n",
       "      <td>Pull-out Sofa</td>\n",
       "      <td>250</td>\n",
       "      <td>Private room</td>\n",
       "      <td>10777</td>\n",
       "      <td>[internet, wifi, pets allowed, pets live on th...</td>\n",
       "      <td>26.0</td>\n",
       "    </tr>\n",
       "    <tr>\n",
       "      <td>4</td>\n",
       "      <td>2</td>\n",
       "      <td>1.0</td>\n",
       "      <td>1.0</td>\n",
       "      <td>2</td>\n",
       "      <td>Real Bed</td>\n",
       "      <td>0</td>\n",
       "      <td>Private room</td>\n",
       "      <td>10437</td>\n",
       "      <td>[wifi, heating, family, kid friendly, essentia...</td>\n",
       "      <td>42.0</td>\n",
       "    </tr>\n",
       "    <tr>\n",
       "      <td>...</td>\n",
       "      <td>...</td>\n",
       "      <td>...</td>\n",
       "      <td>...</td>\n",
       "      <td>...</td>\n",
       "      <td>...</td>\n",
       "      <td>...</td>\n",
       "      <td>...</td>\n",
       "      <td>...</td>\n",
       "      <td>...</td>\n",
       "      <td>...</td>\n",
       "    </tr>\n",
       "    <tr>\n",
       "      <td>22346</td>\n",
       "      <td>1</td>\n",
       "      <td>1.0</td>\n",
       "      <td>1.0</td>\n",
       "      <td>1</td>\n",
       "      <td>Real Bed</td>\n",
       "      <td>0</td>\n",
       "      <td>Shared room</td>\n",
       "      <td>10115</td>\n",
       "      <td>[wifi, heating, washer, first aid kit, safety ...</td>\n",
       "      <td>18.0</td>\n",
       "    </tr>\n",
       "    <tr>\n",
       "      <td>22352</td>\n",
       "      <td>1</td>\n",
       "      <td>1.0</td>\n",
       "      <td>1.0</td>\n",
       "      <td>4</td>\n",
       "      <td>Real Bed</td>\n",
       "      <td>600</td>\n",
       "      <td>Private room</td>\n",
       "      <td>13359</td>\n",
       "      <td>[wifi, air conditioning, kitchen, smoking allo...</td>\n",
       "      <td>40.0</td>\n",
       "    </tr>\n",
       "    <tr>\n",
       "      <td>22367</td>\n",
       "      <td>1</td>\n",
       "      <td>1.0</td>\n",
       "      <td>1.0</td>\n",
       "      <td>2</td>\n",
       "      <td>Real Bed</td>\n",
       "      <td>0</td>\n",
       "      <td>Private room</td>\n",
       "      <td>10247</td>\n",
       "      <td>[wifi, kitchen, breakfast, heating, washer, fi...</td>\n",
       "      <td>50.0</td>\n",
       "    </tr>\n",
       "    <tr>\n",
       "      <td>22398</td>\n",
       "      <td>2</td>\n",
       "      <td>2.0</td>\n",
       "      <td>1.0</td>\n",
       "      <td>4</td>\n",
       "      <td>Real Bed</td>\n",
       "      <td>0</td>\n",
       "      <td>Entire home/apt</td>\n",
       "      <td>10557</td>\n",
       "      <td>[tv, wifi, air conditioning, kitchen, free par...</td>\n",
       "      <td>45.0</td>\n",
       "    </tr>\n",
       "    <tr>\n",
       "      <td>22401</td>\n",
       "      <td>1</td>\n",
       "      <td>3.0</td>\n",
       "      <td>2.0</td>\n",
       "      <td>10</td>\n",
       "      <td>Real Bed</td>\n",
       "      <td>0</td>\n",
       "      <td>Entire home/apt</td>\n",
       "      <td>10963</td>\n",
       "      <td>[tv, cable tv, kitchen, free street parking, b...</td>\n",
       "      <td>170.0</td>\n",
       "    </tr>\n",
       "  </tbody>\n",
       "</table>\n",
       "<p>15911 rows × 10 columns</p>\n",
       "</div>"
      ],
      "text/plain": [
       "       minimum_nights  bedrooms  bathrooms  accommodates       bed_type  \\\n",
       "0                   4       1.0        1.0             3       Real Bed   \n",
       "1                   2       1.0        1.0             2       Real Bed   \n",
       "2                  62       1.0        1.0             4       Real Bed   \n",
       "3                   5       1.0        1.0             2  Pull-out Sofa   \n",
       "4                   2       1.0        1.0             2       Real Bed   \n",
       "...               ...       ...        ...           ...            ...   \n",
       "22346               1       1.0        1.0             1       Real Bed   \n",
       "22352               1       1.0        1.0             4       Real Bed   \n",
       "22367               1       1.0        1.0             2       Real Bed   \n",
       "22398               2       2.0        1.0             4       Real Bed   \n",
       "22401               1       3.0        2.0            10       Real Bed   \n",
       "\n",
       "       security_deposit        room_type  zipcode  \\\n",
       "0                   200  Entire home/apt    10119   \n",
       "1                     0     Private room    10437   \n",
       "2                   200  Entire home/apt    10405   \n",
       "3                   250     Private room    10777   \n",
       "4                     0     Private room    10437   \n",
       "...                 ...              ...      ...   \n",
       "22346                 0      Shared room    10115   \n",
       "22352               600     Private room    13359   \n",
       "22367                 0     Private room    10247   \n",
       "22398                 0  Entire home/apt    10557   \n",
       "22401                 0  Entire home/apt    10963   \n",
       "\n",
       "                                               amenities  price  \n",
       "0      [tv, cable tv, wifi, kitchen, gym, heating, fa...   60.0  \n",
       "1      [wifi, kitchen, elevator, heating, washer, ess...   17.0  \n",
       "2      [internet, wifi, kitchen, buzzer, wireless int...   90.0  \n",
       "3      [internet, wifi, pets allowed, pets live on th...   26.0  \n",
       "4      [wifi, heating, family, kid friendly, essentia...   42.0  \n",
       "...                                                  ...    ...  \n",
       "22346  [wifi, heating, washer, first aid kit, safety ...   18.0  \n",
       "22352  [wifi, air conditioning, kitchen, smoking allo...   40.0  \n",
       "22367  [wifi, kitchen, breakfast, heating, washer, fi...   50.0  \n",
       "22398  [tv, wifi, air conditioning, kitchen, free par...   45.0  \n",
       "22401  [tv, cable tv, kitchen, free street parking, b...  170.0  \n",
       "\n",
       "[15911 rows x 10 columns]"
      ]
     },
     "execution_count": 27,
     "metadata": {},
     "output_type": "execute_result"
    }
   ],
   "source": [
    "df"
   ]
  },
  {
   "cell_type": "code",
   "execution_count": 28,
   "metadata": {},
   "outputs": [],
   "source": [
    "# OneHot amenities\n",
    "df = df.join(df['amenities'].str.join('|').str.get_dummies())"
   ]
  },
  {
   "cell_type": "code",
   "execution_count": 29,
   "metadata": {},
   "outputs": [],
   "source": [
    "# Drop amenities column\n",
    "df = df.drop('amenities', 1)"
   ]
  },
  {
   "cell_type": "code",
   "execution_count": 111,
   "metadata": {},
   "outputs": [],
   "source": [
    "# Re-sort amenities by occurance\n",
    "amenity_count = dict()\n",
    "\n",
    "for column in df:\n",
    "    if column in columns:\n",
    "        pass\n",
    "    else:\n",
    "        amenity_count[column] = df[column].value_counts().to_dict()\n",
    "        \n",
    "# Set to dataframe to sort\n",
    "df_amenities = pd.DataFrame(amenity_count)\n",
    "\n",
    "# Create list of popular index\n",
    "amenities = df_amenities.iloc[1].sort_values(ascending=False)[:52].index.to_list()\n",
    "\n",
    "# Remove nonsense indicies\n",
    "amenities.remove('en')\n",
    "amenities.remove('in')\n",
    "amenities.remove('translation missing')\n",
    "amenities.remove('hosting_amenity_50')\n",
    "amenities.remove('hosting_amenity_49')\n"
   ]
  },
  {
   "cell_type": "code",
   "execution_count": 112,
   "metadata": {},
   "outputs": [
    {
     "data": {
      "text/plain": [
       "['wifi',\n",
       " 'heating',\n",
       " 'kitchen',\n",
       " 'essentials',\n",
       " 'washer',\n",
       " 'hair dryer',\n",
       " 'laptop friendly workspace',\n",
       " 'hangers',\n",
       " 'iron',\n",
       " 'hot water',\n",
       " 'shampoo',\n",
       " 'tv',\n",
       " 'family',\n",
       " 'kid friendly',\n",
       " 'internet',\n",
       " 'host greets you',\n",
       " 'smoke detector',\n",
       " 'buzzer',\n",
       " 'wireless intercom',\n",
       " 'free street parking',\n",
       " 'refrigerator',\n",
       " 'dishes and silverware',\n",
       " 'bed linens',\n",
       " 'cooking basics',\n",
       " 'stove',\n",
       " 'lock on bedroom door',\n",
       " 'oven',\n",
       " 'elevator',\n",
       " 'coffee maker',\n",
       " 'smoking allowed',\n",
       " 'first aid kit',\n",
       " 'cable tv',\n",
       " 'dishwasher',\n",
       " 'long term stays allowed',\n",
       " 'luggage dropoff allowed',\n",
       " 'dryer',\n",
       " 'fire extinguisher',\n",
       " 'pets allowed',\n",
       " 'extra pillows and blankets',\n",
       " 'patio or balcony',\n",
       " 'microwave',\n",
       " 'private entrance',\n",
       " 'paid parking off premises',\n",
       " 'safety card',\n",
       " 'free parking on premises',\n",
       " 'private living room',\n",
       " 'bathtub']"
      ]
     },
     "execution_count": 112,
     "metadata": {},
     "output_type": "execute_result"
    }
   ],
   "source": [
    "amenities"
   ]
  },
  {
   "cell_type": "code",
   "execution_count": 115,
   "metadata": {},
   "outputs": [],
   "source": [
    "# Feed new data through the pipeline\n",
    "\n",
    "# Split into feature matrix / target vector\n",
    "new_columns = [\n",
    "    'minimum_nights', 'bedrooms', 'bathrooms', 'accommodates', \n",
    "    'bed_type', 'security_deposit', 'room_type', 'zipcode', \n",
    "    'price'\n",
    "]\n",
    "\n",
    "X = df[new_columns + amenities].drop(columns=target)\n",
    "y = df[target]\n",
    "\n",
    "X_train, X_test, y_train, y_test = train_test_split(X, y, test_size=0.15, random_state=42)"
   ]
  },
  {
   "cell_type": "code",
   "execution_count": 185,
   "metadata": {},
   "outputs": [],
   "source": [
    "# Fit ridge regressor as baseline model\n",
    "from sklearn.linear_model import Ridge\n",
    "model = Pipeline(\n",
    "    [('encoder', OrdinalEncoder()), \n",
    "     ('reg', Ridge(alpha=10, solver='auto', tol=0.05))]\n",
    ")\n"
   ]
  },
  {
   "cell_type": "code",
   "execution_count": 186,
   "metadata": {},
   "outputs": [
    {
     "data": {
      "text/plain": [
       "Pipeline(memory=None,\n",
       "         steps=[('encoder',\n",
       "                 OrdinalEncoder(cols=['bed_type', 'room_type'],\n",
       "                                drop_invariant=False, handle_missing='value',\n",
       "                                handle_unknown='value',\n",
       "                                mapping=[{'col': 'bed_type',\n",
       "                                          'data_type': dtype('O'),\n",
       "                                          'mapping': Real Bed         1\n",
       "Pull-out Sofa    2\n",
       "Futon            3\n",
       "Couch            4\n",
       "Airbed           5\n",
       "NaN             -2\n",
       "dtype: int64},\n",
       "                                         {'col': 'room_type',\n",
       "                                          'data_type': dtype('O'),\n",
       "                                          'mapping': Private room       1\n",
       "Entire home/apt    2\n",
       "Shared room        3\n",
       "NaN               -2\n",
       "dtype: int64}],\n",
       "                                return_df=True, verbose=0)),\n",
       "                ('reg',\n",
       "                 Ridge(alpha=10, copy_X=True, fit_intercept=True, max_iter=None,\n",
       "                       normalize=False, random_state=None, solver='auto',\n",
       "                       tol=0.05))],\n",
       "         verbose=False)"
      ]
     },
     "execution_count": 186,
     "metadata": {},
     "output_type": "execute_result"
    }
   ],
   "source": [
    "model.fit(X_train, y_train)"
   ]
  },
  {
   "cell_type": "code",
   "execution_count": 187,
   "metadata": {},
   "outputs": [
    {
     "data": {
      "text/plain": [
       "0.08110959807915163"
      ]
     },
     "execution_count": 187,
     "metadata": {},
     "output_type": "execute_result"
    }
   ],
   "source": [
    "model.score(X_train, y_train) # r^2 is 8%"
   ]
  },
  {
   "cell_type": "code",
   "execution_count": 188,
   "metadata": {},
   "outputs": [],
   "source": [
    "y_pred = model.predict(X_test)"
   ]
  },
  {
   "cell_type": "code",
   "execution_count": 189,
   "metadata": {},
   "outputs": [
    {
     "data": {
      "text/plain": [
       "array([86.61193121, 47.79530451, 16.47172705, 80.0104625 , 94.52625868])"
      ]
     },
     "execution_count": 189,
     "metadata": {},
     "output_type": "execute_result"
    }
   ],
   "source": [
    "y_pred[:5]"
   ]
  },
  {
   "cell_type": "code",
   "execution_count": 190,
   "metadata": {},
   "outputs": [
    {
     "data": {
      "text/plain": [
       "11300    60.0\n",
       "14162    40.0\n",
       "9454     25.0\n",
       "16880    27.0\n",
       "1404     75.0\n",
       "Name: price, dtype: float64"
      ]
     },
     "execution_count": 190,
     "metadata": {},
     "output_type": "execute_result"
    }
   ],
   "source": [
    "y_test[:5]"
   ]
  },
  {
   "cell_type": "code",
   "execution_count": 193,
   "metadata": {},
   "outputs": [
    {
     "data": {
      "image/png": "[encoded data removed]",
      "text/plain": [
       "<Figure size 432x288 with 1 Axes>"
      ]
     },
     "metadata": {
      "needs_background": "light"
     },
     "output_type": "display_data"
    }
   ],
   "source": [
    "import matplotlib.pyplot as plt\n",
    "plt.scatter(y_pred, y_test)\n",
    "plt.show()"
   ]
  },
  {
   "cell_type": "code",
   "execution_count": 194,
   "metadata": {},
   "outputs": [],
   "source": [
    "# Create truncation function -> min 15\n",
    "y_pred_2 = [15.0 if x < 15.0 else round(x) for x in y_pred]"
   ]
  },
  {
   "cell_type": "code",
   "execution_count": 197,
   "metadata": {},
   "outputs": [
    {
     "data": {
      "text/plain": [
       "0.20528258819205647"
      ]
     },
     "execution_count": 197,
     "metadata": {},
     "output_type": "execute_result"
    }
   ],
   "source": [
    "# Calc R^2 score for truncated predictions\n",
    "from sklearn.metrics import r2_score\n",
    "\n",
    "\n",
    "r2_score(y_test, y_pred_2)"
   ]
  },
  {
   "cell_type": "markdown",
   "metadata": {},
   "source": [
    "# An improvement\n",
    "\n",
    "This model scores 20% r-squared, which is an improvement over the original baseline model."
   ]
  },
  {
   "cell_type": "code",
   "execution_count": 202,
   "metadata": {},
   "outputs": [],
   "source": [
    "# Save the model object\n",
    "import pickle\n",
    "\n",
    "file_model = open('model.obj', 'wb')\n",
    "pickle.dump(model, file_model)"
   ]
  },
  {
   "cell_type": "code",
   "execution_count": 203,
   "metadata": {},
   "outputs": [],
   "source": [
    "file_model.close()"
   ]
  },
  {
   "cell_type": "code",
   "execution_count": null,
   "metadata": {},
   "outputs": [],
   "source": []
  }
 ],
 "metadata": {
  "kernelspec": {
   "display_name": "Python 3",
   "language": "python",
   "name": "python3"
  },
  "language_info": {
   "codemirror_mode": {
    "name": "ipython",
    "version": 3
   },
   "file_extension": ".py",
   "mimetype": "text/x-python",
   "name": "python",
   "nbconvert_exporter": "python",
   "pygments_lexer": "ipython3",
   "version": "3.7.4"
  }
 },
 "nbformat": 4,
 "nbformat_minor": 4
}
